{
 "cells": [
  {
   "cell_type": "markdown",
   "metadata": {},
   "source": [
    "# MVGmeinRad Part 1: Visualizing bike sharing data via Folium\n",
    "\n",
    "<img src=\"https://upload.wikimedia.org/wikipedia/commons/thumb/7/76/MVGmeinRad-Logo.jpg/1200px-MVGmeinRad-Logo.jpg\" width=\"500\" height=\"500\" />\n",
    "\n",
    "Since 2012 the transportation operator (MVG) of my adopted city of Mainz offers a bike rental system called [MVGmeinRad](https://de.wikipedia.org/wiki/MVGmeinRad) with more than [100 stations](https://www.mainzer-mobilitaet.de/en/mainzigartig-mobil/mit-mvgmeinrad/einfuehrung.html) citywide.\n",
    "One can check via an interactive [map](https://www.mainzer-mobilitaet.de/mainzigartig-mobil/mit-mvgmeinrad/stationen.html) where each station is located and what its current numper of free bikes is. The underlying data is readily stored in JSON format and can thus be used for data exploration hassle-free. Unfortunately, only data related to the station itself, and not on actual trips taken, is made available. However, even this limited information is worth-while to explore.\n",
    "\n",
    "The inspiration for this notebook came from several [great](http://luisvalesilva.com/datasimple/citibike.html) [blog](https://georgetsilva.github.io/posts/mapping-points-with-folium/) [posts](https://blog.prototypr.io/interactive-maps-with-python-part-1-aa1563dbe5a9) on how to graphical explore bike sharing data with the [folium](https://github.com/python-visualization/folium) package and which made me want to do the same for Mainz.\n",
    "\n",
    "Let's first have a look on the interactive map of all [MVGMeinRad-stations](https://www.mainzer-mobilitaet.de/mainzigartig-mobil/mit-mvgmeinrad/stationen.html):\n",
    "\n",
    "<img src=\"https://raw.githubusercontent.com/MrPreacher/MVGmeinRad/master/Images/MVG_Screenshot.jpg\">"
   ]
  },
  {
   "cell_type": "markdown",
   "metadata": {},
   "source": [
    "Let's take a look at the station data in its raw JSON form:"
   ]
  },
  {
   "cell_type": "code",
   "execution_count": 1,
   "metadata": {},
   "outputs": [],
   "source": [
    "#Load packages:\n",
    "import os\n",
    "os.chdir(\"D:\\\\MVGmeinRad\")\n",
    "import numpy as np\n",
    "import pandas as pd\n",
    "import datetime as dt\n",
    "import time\n",
    "from selenium import webdriver\n",
    "import folium\n",
    "import requests\n",
    "import json\n",
    "from matplotlib.colors import Normalize, rgb2hex\n",
    "import matplotlib.cm as cm"
   ]
  },
  {
   "cell_type": "code",
   "execution_count": 2,
   "metadata": {},
   "outputs": [
    {
     "name": "stdout",
     "output_type": "stream",
     "text": [
      "MVGmeinRad station information retrived at 2019-02-09 22:07:55.384872\n",
      "[\n",
      " {\n",
      "  \"latitude\": \"50.009604\",\n",
      "  \"capacity\": 16,\n",
      "  \"longitude\": \"8.268905\",\n",
      "  \"id\": 111,\n",
      "  \"blocked\": false,\n",
      "  \"bikes_available\": 5,\n",
      "  \"docks_available\": 11,\n",
      "  \"address\": \"Taunusstra\\u00dfe / Ecke Kaiserstra\\u00dfe\",\n",
      "  \"name\": \"Kaisertor\",\n",
      "  \"address_hint\": \"Taunusstra\\u00dfe / Ecke Kaiserstra\\u00dfe\"\n",
      " },\n",
      " {\n",
      "  \"latitude\": \"50.00252\",\n",
      "  \"capacity\": 18,\n",
      "  \"longitude\": \"8.271294\",\n",
      "  \"id\": 4,\n",
      "  \"blocked\": false,\n",
      "  \"bikes_available\": 2,\n",
      "  \"docks_available\": 16,\n",
      "  \"address\": \"Haltestelle Schusterstra\\u00dfe / Bauerngasse\",\n",
      "  \"name\": \"Flachsmarkt\",\n",
      "  \"address_hint\": \"Haltestelle Schusterstra\\u00dfe / Bauerngasse\"\n",
      " }\n",
      "]\n"
     ]
    }
   ],
   "source": [
    "#Load URL from Textfile read current data in JSON format\n",
    "url = pd.read_csv('MVG_URL.txt', header = None).values[0][0]\n",
    "content = requests.get(url).json()\n",
    "print(\"MVGmeinRad station information retrived at\",dt.datetime.now())\n",
    "print(json.dumps(content[0:2], indent=1))"
   ]
  },
  {
   "cell_type": "markdown",
   "metadata": {},
   "source": [
    "This information can be easier read and analyzed by loading it into a Pandas DataFrame:"
   ]
  },
  {
   "cell_type": "code",
   "execution_count": 3,
   "metadata": {},
   "outputs": [
    {
     "data": {
      "text/html": [
       "<div>\n",
       "<style>\n",
       "    .dataframe thead tr:only-child th {\n",
       "        text-align: right;\n",
       "    }\n",
       "\n",
       "    .dataframe thead th {\n",
       "        text-align: left;\n",
       "    }\n",
       "\n",
       "    .dataframe tbody tr th {\n",
       "        vertical-align: top;\n",
       "    }\n",
       "</style>\n",
       "<table border=\"1\" class=\"dataframe\">\n",
       "  <thead>\n",
       "    <tr style=\"text-align: right;\">\n",
       "      <th></th>\n",
       "      <th>address</th>\n",
       "      <th>address_hint</th>\n",
       "      <th>bikes_available</th>\n",
       "      <th>blocked</th>\n",
       "      <th>capacity</th>\n",
       "      <th>docks_available</th>\n",
       "      <th>id</th>\n",
       "      <th>latitude</th>\n",
       "      <th>longitude</th>\n",
       "      <th>name</th>\n",
       "    </tr>\n",
       "  </thead>\n",
       "  <tbody>\n",
       "    <tr>\n",
       "      <th>0</th>\n",
       "      <td>Taunusstraße / Ecke Kaiserstraße</td>\n",
       "      <td>Taunusstraße / Ecke Kaiserstraße</td>\n",
       "      <td>5</td>\n",
       "      <td>False</td>\n",
       "      <td>16</td>\n",
       "      <td>11</td>\n",
       "      <td>111</td>\n",
       "      <td>50.009604</td>\n",
       "      <td>8.268905</td>\n",
       "      <td>Kaisertor</td>\n",
       "    </tr>\n",
       "    <tr>\n",
       "      <th>1</th>\n",
       "      <td>Haltestelle Schusterstraße / Bauerngasse</td>\n",
       "      <td>Haltestelle Schusterstraße / Bauerngasse</td>\n",
       "      <td>2</td>\n",
       "      <td>False</td>\n",
       "      <td>18</td>\n",
       "      <td>16</td>\n",
       "      <td>4</td>\n",
       "      <td>50.002520</td>\n",
       "      <td>8.271294</td>\n",
       "      <td>Flachsmarkt</td>\n",
       "    </tr>\n",
       "    <tr>\n",
       "      <th>2</th>\n",
       "      <td>Treppenaufgang</td>\n",
       "      <td>Treppenaufgang</td>\n",
       "      <td>6</td>\n",
       "      <td>False</td>\n",
       "      <td>12</td>\n",
       "      <td>6</td>\n",
       "      <td>97</td>\n",
       "      <td>50.000980</td>\n",
       "      <td>8.276680</td>\n",
       "      <td>Rathaus-Parkhaus</td>\n",
       "    </tr>\n",
       "    <tr>\n",
       "      <th>3</th>\n",
       "      <td>Haltestelle Höfchen / Alte Universität</td>\n",
       "      <td>Haltestelle Höfchen / Alte Universität</td>\n",
       "      <td>23</td>\n",
       "      <td>False</td>\n",
       "      <td>30</td>\n",
       "      <td>7</td>\n",
       "      <td>24</td>\n",
       "      <td>49.999648</td>\n",
       "      <td>8.271715</td>\n",
       "      <td>Höfchen</td>\n",
       "    </tr>\n",
       "    <tr>\n",
       "      <th>4</th>\n",
       "      <td>Feldbergstraße / Ecke Wallaustraße</td>\n",
       "      <td>Feldbergstraße / Ecke Wallaustraße</td>\n",
       "      <td>4</td>\n",
       "      <td>False</td>\n",
       "      <td>24</td>\n",
       "      <td>20</td>\n",
       "      <td>108</td>\n",
       "      <td>50.010559</td>\n",
       "      <td>8.260654</td>\n",
       "      <td>Feldbergstraße</td>\n",
       "    </tr>\n",
       "  </tbody>\n",
       "</table>\n",
       "</div>"
      ],
      "text/plain": [
       "                                    address  \\\n",
       "0          Taunusstraße / Ecke Kaiserstraße   \n",
       "1  Haltestelle Schusterstraße / Bauerngasse   \n",
       "2                            Treppenaufgang   \n",
       "3    Haltestelle Höfchen / Alte Universität   \n",
       "4        Feldbergstraße / Ecke Wallaustraße   \n",
       "\n",
       "                               address_hint  bikes_available  blocked  \\\n",
       "0          Taunusstraße / Ecke Kaiserstraße                5    False   \n",
       "1  Haltestelle Schusterstraße / Bauerngasse                2    False   \n",
       "2                            Treppenaufgang                6    False   \n",
       "3    Haltestelle Höfchen / Alte Universität               23    False   \n",
       "4        Feldbergstraße / Ecke Wallaustraße                4    False   \n",
       "\n",
       "   capacity  docks_available   id   latitude  longitude              name  \n",
       "0        16               11  111  50.009604   8.268905         Kaisertor  \n",
       "1        18               16    4  50.002520   8.271294       Flachsmarkt  \n",
       "2        12                6   97  50.000980   8.276680  Rathaus-Parkhaus  \n",
       "3        30                7   24  49.999648   8.271715           Höfchen  \n",
       "4        24               20  108  50.010559   8.260654   Feldbergstraße   "
      ]
     },
     "execution_count": 3,
     "metadata": {},
     "output_type": "execute_result"
    }
   ],
   "source": [
    "df = pd.read_json(url)\n",
    "df.head()"
   ]
  },
  {
   "cell_type": "markdown",
   "metadata": {},
   "source": [
    "We can see that the station data can be separated into three broad groups:\n",
    "\n",
    "-  the station `name` and the unique station-`id` help **identify** each station\n",
    "-  **location information** is given via the station-address and the `latitude` and `longitude` parameters \n",
    "-  information on the stations **current state** are:\n",
    "    -  `capacity` gives the total number of docks of a station\n",
    "    -  `bikes_available` and `docks_available` gives the current utilization of the station\n",
    "    -  `blocked` is a boolean that indicates wheter the station is temporarily not available\n",
    "    \n",
    "Unfortunately there is no information on individual bike-rides in the data. Still, the available information on the 119 bike-stations allow us to look at the average utilization of each station, correlation between stations, the utilization of the entire grid and so forth. \n",
    "\n",
    "However, in this notebook we will restrict ourselves to plotting interactive maps of Mainz and its network of bike rental stations. We will do so with the help of the `Folium` library, which allows for the easy creation of interactive Leaflet maps in the spirit of the JavaScript library of the same name. \n",
    "\n",
    "Plotting a map is as easy as specifying the coordinates of the map-midpoint. One of its nice features is that `Folium` offers different tilesets to alter the general look of the map. Two very nice tilesets are `CartoDB` and `Stamen`. Of the latter, my personal favorite is `stamenwatercolor`, which lets us depict the city of Mainz in the style of a beatiful water colour painting.\n",
    "\n",
    "Before we do so, though, we'll define a function that let us save the interactive map as static imagae via the `Selenium` library as described in [this blog post](https://alcidanalytics.com/p/geographic-heatmap-in-python). The reason for this is the inability to render an interactive map on a static Jupyter notebook on Github."
   ]
  },
  {
   "cell_type": "code",
   "execution_count": 4,
   "metadata": {},
   "outputs": [],
   "source": [
    "#Function to save Folium map as PNG file via the webbrowser:\n",
    "def save_map(folium_map,map_name):\n",
    "    fn='testmap.html'\n",
    "    folium_map.save(fn)\n",
    "    tmpurl='file://{path}/{mapfile}'.format(path=os.getcwd(),mapfile=fn)\n",
    "    browser = webdriver.Firefox()\n",
    "    browser.get(tmpurl)\n",
    "    time.sleep(1)\n",
    "    browser.save_screenshot(map_name + '.png')\n",
    "    browser.quit()"
   ]
  },
  {
   "cell_type": "code",
   "execution_count": 5,
   "metadata": {},
   "outputs": [],
   "source": [
    "folium_map = folium.Map(location=[50.01, 8.24], tiles=\"stamenwatercolor\", zoom_start=13.3)\n",
    "\n",
    "#Save static map\n",
    "save_map(folium_map,\"MVG_stamenwatercolor\")\n",
    "\n",
    "#Display interactive map\n",
    "#folium_map"
   ]
  },
  {
   "attachments": {},
   "cell_type": "markdown",
   "metadata": {},
   "source": [
    "<img src=\"https://raw.githubusercontent.com/MrPreacher/MVGmeinRad/master/Images/MVG_stamenwatercolor.png\"  width=\"1000\" height=\"2000\" />"
   ]
  },
  {
   "cell_type": "markdown",
   "metadata": {},
   "source": [
    "We will begin by recreating the interactive map displayed above via the folium library. `Folium` allows the easy creation of interactive Leaflet maps in the spirit of the JavaScript library of the same name. Let us beginn with a relative simple map that will mark each station via its `latitude` and `longitude`. In addition, the respective station name should be displayed for a selected marker:"
   ]
  },
  {
   "cell_type": "code",
   "execution_count": 6,
   "metadata": {},
   "outputs": [],
   "source": [
    "#Define folium map\n",
    "folium_map = folium.Map(location=[49.99, 8.17], zoom_start=12.3)\n",
    "\n",
    "#Iterate over station and place on map\n",
    "for point in range(df.shape[0]):\n",
    "    folium.Marker(location=df.loc[point,['latitude', 'longitude']].values.tolist(),\n",
    "                  popup=df['name'][point]).add_to(folium_map)\n",
    "\n",
    "#Save static map\n",
    "save_map(folium_map,\"MVG_Overview\")\n",
    "\n",
    "#Display interactive map\n",
    "#folium_map"
   ]
  },
  {
   "attachments": {},
   "cell_type": "markdown",
   "metadata": {},
   "source": [
    "<img src=\"https://raw.githubusercontent.com/MrPreacher/MVGmeinRad/master/Images/MVG_Overview.png\" width=\"1000\" height=\"2000\" />"
   ]
  },
  {
   "cell_type": "markdown",
   "metadata": {},
   "source": [
    "This map gives a good overview over the magnitude of the grid, which extends to nearby towns like Ingelheim and even crosses the Rhine into the neighboring federal state of Hesse.\n",
    "\n",
    "However,the above visualization does not make use of the information regarding the current state of a station. As a finger exersice we want to recreate the spirit of the original map, by defining the icons for each station as follows:\n",
    "\n",
    "-  stations blocked due to repairs are indicated by a wrench on gray background\n",
    "-  for each staton we want to display the number of available bikes and free docks along with the name of the station\n",
    "-  stations with less than two bikes available should be highlighted in red\n",
    "-  if a station has at least half its bike available should be indicated by a green background, if not by a orange background\n",
    "\n",
    "Unfortunately the number of available bikes is not easily displayed directly on each station-icon. However, the fontawsome project allows for the easy incorporation of many different [icons](https://fontawesome.com/v4.7.0/icons/).\n",
    "\n",
    "Finally, we choose a different map-style via the `tiles=` option in the `folium.Map` statement. The resulting map resembles the original map much closer and offers more information at first glance:\n"
   ]
  },
  {
   "cell_type": "code",
   "execution_count": 7,
   "metadata": {},
   "outputs": [],
   "source": [
    "#Define folium map\n",
    "folium_map = folium.Map(location=[50, 8.27], tiles=\"stamenterrain\", zoom_start=14)\n",
    "\n",
    "#Iterate over station and place on map\n",
    "for index, row in df.iterrows():\n",
    "    icon = \"bicycle\"\n",
    "    if row[\"blocked\"] == True:\n",
    "        icon = \"wrench\"\n",
    "        color = \"gray\"\n",
    "    elif row[\"bikes_available\"] <= 1:\n",
    "        color = color=\"red\"\n",
    "    elif row[\"bikes_available\"] >= row[\"docks_available\"]:\n",
    "        color=\"green\"\n",
    "    else:\n",
    "        color=\"orange\" \n",
    "        \n",
    "    folium.Marker(location=(row[\"latitude\"],row[\"longitude\"]),\n",
    "                  icon=folium.Icon(color=color, prefix = 'fa', icon=icon),\n",
    "                  popup=row[\"name\"]+\"  |  Bikes available: \" + str(row[\"bikes_available\"]) \n",
    "                          +\"  |  Free docks: \" + str(row[\"docks_available\"])).add_to(folium_map)\n",
    "    \n",
    "#Save map\n",
    "save_map(folium_map,\"MVG_FahrradAmpel\")\n",
    "#Display map\n",
    "#folium_map"
   ]
  },
  {
   "attachments": {},
   "cell_type": "markdown",
   "metadata": {},
   "source": [
    "<img src=\"https://raw.githubusercontent.com/MrPreacher/MVGmeinRad/master/Images/MVG_FahrradAmpel.png\" width=\"1000\" height=\"2000\" />"
   ]
  },
  {
   "cell_type": "markdown",
   "metadata": {},
   "source": [
    "This map already gives us a good idea about the current utilization of the bike rental system. However, we can highlight other aspects of the data by using different map settings. For instance, `Foliums CircleMarker` represents points on a map as circles. Thus, we can illustrate a stations capacity by the radius of its circle. At the same time we want to represent \n",
    "\n",
    "with green representing a high share of available bikes relative to a stations capacity and red indicating a low share\n",
    "similar to before. But now we want to represent this in a continuos fashion by mapping the share to a [colormap](https://nbviewer.jupyter.org/github/python-visualization/folium/blob/v0.2.0/examples/Colormaps.ipynb)\n",
    "\n",
    "\n",
    "\n"
   ]
  },
  {
   "cell_type": "code",
   "execution_count": 8,
   "metadata": {},
   "outputs": [],
   "source": [
    "#Define folium map\n",
    "folium_map = folium.Map(location=[49.995123, 8.267426], zoom_start=13, \n",
    "                        tiles='cartodbdark_matter') #dark tileset to make colors stand out more clearly\n",
    "\n",
    "#Iterate over station and place on map\n",
    "for index, row in df.iterrows():\n",
    "    \n",
    "    #Compute fraction of available bikes relative to total capacity and map share on colormap\n",
    "    bike_share =float(row[\"bikes_available\"])/float(row[\"capacity\"])\n",
    "    color = rgb2hex(cm.RdYlGn(bike_share))\n",
    "    \n",
    "    folium.CircleMarker(location=(row[\"latitude\"],row[\"longitude\"]),\n",
    "                        popup= row[\"name\"] + \": \" + str(row[\"bikes_available\"]) + \" out of \" + str(row[\"capacity\"]) + \" bikes available\",\n",
    "                        radius=row[\"capacity\"],\n",
    "                        color=color,\n",
    "                        fill=True).add_to(folium_map )\n",
    "    \n",
    "#Save map\n",
    "save_map(folium_map,\"MVG_Cartodbdark_matter\")\n",
    "#Display map\n",
    "#folium_map"
   ]
  },
  {
   "attachments": {},
   "cell_type": "markdown",
   "metadata": {},
   "source": [
    "<img src=\"https://raw.githubusercontent.com/MrPreacher/MVGmeinRad/master/Images/MVG_Cartodbdark_matter.png\" width=\"1000\" height=\"2000\" />"
   ]
  },
  {
   "cell_type": "markdown",
   "metadata": {},
   "source": [
    "Another nice feature of the `Folium` library is its capitbility of overlaying a map with stunning heatmaps via external `plugins`. The implementation as can be seen in [this Kaggle notebook](https://www.kaggle.com/rachan/how-to-folium-for-maps-heatmaps-time-analysis#). The important point to keep in mind is that one cannot use a `Pandas DataFrame` but has to use a list of latitudinal longitudinal points. The number of nearby points determines the \"heat\" of an area. \n",
    "\n",
    "We can illustrate the distribution of bike rental stations in this fashion:"
   ]
  },
  {
   "cell_type": "code",
   "execution_count": 9,
   "metadata": {},
   "outputs": [],
   "source": [
    "from folium import plugins\n",
    "from folium.plugins import HeatMap\n",
    "\n",
    "#Define folium map\n",
    "folium_map = folium.Map(location=[49.995123, 8.267426],\n",
    "                        tiles='Stamen Toner', #Light tile makes the heatmap stand out more easily\n",
    "                        zoom_start=13)\n",
    "\n",
    "#Keep only longitude and latitude as list of lists\n",
    "heat_data = df[[\"latitude\", \"longitude\"]].values.tolist()\n",
    "\n",
    "#Add to map\n",
    "HeatMap(heat_data).add_to(folium_map)\n",
    "\n",
    "#Save map\n",
    "save_map(folium_map,\"MVG_Heatmap_I\")\n",
    "#Display map\n",
    "#folium_map"
   ]
  },
  {
   "attachments": {},
   "cell_type": "markdown",
   "metadata": {},
   "source": [
    "<img src=\"https://raw.githubusercontent.com/MrPreacher/MVGmeinRad/master/Images/MVG_Heatmap_I.png\" width=\"1000\" height=\"2000\" />"
   ]
  },
  {
   "cell_type": "markdown",
   "metadata": {},
   "source": [
    "This is a nice style of visualization, but heatmaps do really shine when it comes to displaying movement over time. For instance, it seems worthwhile to look at changes in the number of bikes at each station. We will do so in a later notebook, once we have collected repeated observations over time.\n",
    "\n",
    "At this point we will content ourselves to a heatmap of the available bikes per station for the given point in time. For this, we keep the number of availables bikes as a weight-variable along with the longitude-latitude pairs. The resulting heatmap reveals a clustering of available bikes around the two existing train stations in Mainz:"
   ]
  },
  {
   "cell_type": "code",
   "execution_count": 10,
   "metadata": {},
   "outputs": [],
   "source": [
    "#Define folium map\n",
    "folium_map = folium.Map(location=[49.995123, 8.267426],tiles='Stamen Toner',zoom_start=13)\n",
    "\n",
    "#Keep number of available bikes as well as weight variable\n",
    "heat_data = df[[\"latitude\", \"longitude\",\"bikes_available\"]].values.tolist()\n",
    "\n",
    "#Add to map\n",
    "HeatMap(heat_data).add_to(folium_map)\n",
    "\n",
    "#Save map\n",
    "save_map(folium_map,\"MVG_Heatmap_II\")\n",
    "#Display map\n",
    "#folium_map"
   ]
  },
  {
   "attachments": {},
   "cell_type": "markdown",
   "metadata": {},
   "source": [
    "<img src=\"https://raw.githubusercontent.com/MrPreacher/MVGmeinRad/master/Images/MVG_Heatmap_II.png\" width=\"1000\" height=\"2000\" />"
   ]
  }
 ],
 "metadata": {
  "kernelspec": {
   "display_name": "Python [conda env:tenserflow]",
   "language": "python",
   "name": "conda-env-tenserflow-py"
  },
  "language_info": {
   "codemirror_mode": {
    "name": "ipython",
    "version": 3
   },
   "file_extension": ".py",
   "mimetype": "text/x-python",
   "name": "python",
   "nbconvert_exporter": "python",
   "pygments_lexer": "ipython3",
   "version": "3.5.6"
  }
 },
 "nbformat": 4,
 "nbformat_minor": 2
}
